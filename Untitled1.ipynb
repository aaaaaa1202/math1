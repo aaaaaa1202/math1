{
  "nbformat": 4,
  "nbformat_minor": 0,
  "metadata": {
    "colab": {
      "provenance": []
    },
    "kernelspec": {
      "name": "python3",
      "display_name": "Python 3"
    },
    "language_info": {
      "name": "python"
    }
  },
  "cells": [
    {
      "cell_type": "code",
      "execution_count": 13,
      "metadata": {
        "colab": {
          "base_uri": "https://localhost:8080/"
        },
        "id": "8AzlaqnXAcK6",
        "outputId": "44f0bbc6-9236-417a-fb07-5c9d7e5363f0"
      },
      "outputs": [
        {
          "output_type": "stream",
          "name": "stdout",
          "text": [
            "請輸入一個數字3\n",
            "1 X 1 = 1\n",
            "1 X 2 = 2\n",
            "1 X 3 = 3\n",
            "2 X 1 = 2\n",
            "2 X 2 = 4\n",
            "2 X 3 = 6\n",
            "3 X 1 = 3\n",
            "3 X 2 = 6\n",
            "3 X 3 = 9\n"
          ]
        }
      ],
      "source": [
        "num = int(input(\"請輸入一個數字\"))\n",
        "for i in range(1, num + 1):\n",
        "  for j in range(1, num + 1):\n",
        "    print(f\"{i} X {j} = {i * j}\")\n",
        "\n"
      ]
    },
    {
      "cell_type": "code",
      "source": [
        "import random\n",
        "target_number=random.randint(1,100)\n",
        "print('歡迎參加猜數字遊戲!')\n",
        "t = 0\n",
        "while t == 0:\n",
        "  num=int(input('請輸入一個數字'))\n",
        "  if num > target_number:\n",
        "    print(\"太大了\")\n",
        "  elif num < target_number:\n",
        "    print(\"太小了\")\n",
        "  else:\n",
        "    print(f\"猜對了!答案是 {target_number}!\")\n",
        "    t=1\n",
        "print(\"遊戲結束\")\n"
      ],
      "metadata": {
        "colab": {
          "base_uri": "https://localhost:8080/"
        },
        "id": "4ehJ5OACDm6x",
        "outputId": "a6b95be8-8ba6-4d34-c59b-a03be271e418"
      },
      "execution_count": 17,
      "outputs": [
        {
          "output_type": "stream",
          "name": "stdout",
          "text": [
            "歡迎參加猜數字遊戲!\n",
            "請輸入一個數字1\n",
            "太小了\n",
            "請輸入一個數字2\n",
            "太小了\n",
            "請輸入一個數字3\n",
            "太小了\n",
            "請輸入一個數字4\n",
            "太小了\n",
            "請輸入一個數字5\n",
            "太小了\n",
            "請輸入一個數字6\n",
            "太小了\n",
            "請輸入一個數字50\n",
            "太大了\n",
            "請輸入一個數字7\n",
            "太小了\n",
            "請輸入一個數字49\n",
            "太大了\n",
            "請輸入一個數字30\n",
            "太小了\n",
            "請輸入一個數字40\n",
            "太小了\n",
            "請輸入一個數字45\n",
            "猜對了!答案是 45!\n",
            "遊戲結束\n"
          ]
        }
      ]
    }
  ]
}